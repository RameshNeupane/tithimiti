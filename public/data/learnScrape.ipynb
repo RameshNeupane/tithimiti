{
 "cells": [
  {
   "cell_type": "code",
   "execution_count": 1,
   "metadata": {},
   "outputs": [],
   "source": [
    "import webbrowser"
   ]
  },
  {
   "cell_type": "code",
   "execution_count": 2,
   "metadata": {},
   "outputs": [],
   "source": [
    "import requests, bs4"
   ]
  },
  {
   "cell_type": "code",
   "execution_count": 3,
   "metadata": {},
   "outputs": [],
   "source": [
    "res = requests.get(\n",
    "    'https://www.ashesh.com.np/nepali-calendar/?year=2070&month=Bhadra'\n",
    "    )\n"
   ]
  },
  {
   "cell_type": "code",
   "execution_count": 4,
   "metadata": {},
   "outputs": [],
   "source": [
    "res.raise_for_status()"
   ]
  },
  {
   "cell_type": "code",
   "execution_count": 5,
   "metadata": {},
   "outputs": [
    {
     "data": {
      "text/plain": [
       "requests.models.Response"
      ]
     },
     "execution_count": 5,
     "metadata": {},
     "output_type": "execute_result"
    }
   ],
   "source": [
    "type(res)"
   ]
  },
  {
   "cell_type": "code",
   "execution_count": 6,
   "metadata": {},
   "outputs": [
    {
     "data": {
      "text/plain": [
       "True"
      ]
     },
     "execution_count": 6,
     "metadata": {},
     "output_type": "execute_result"
    }
   ],
   "source": [
    "res.status_code == requests.codes.ok"
   ]
  },
  {
   "cell_type": "code",
   "execution_count": 7,
   "metadata": {},
   "outputs": [
    {
     "data": {
      "text/plain": [
       "36948"
      ]
     },
     "execution_count": 7,
     "metadata": {},
     "output_type": "execute_result"
    }
   ],
   "source": [
    "len(res.text)"
   ]
  },
  {
   "cell_type": "code",
   "execution_count": 8,
   "metadata": {},
   "outputs": [
    {
     "name": "stdout",
     "output_type": "stream",
     "text": [
      "<!DOCTYPE html>\n",
      "<html lang=\"en\">\n",
      "<head>\n",
      "<meta http-equiv=\"Content-Type\" content=\"text/html; charset=UTF-8\" />\n",
      "<meta name=\"apple-itunes-app\" content=\"app-id=1273057004, affiliate-data=myAffiliateData\">\n",
      "<title>Nepali Calendar 2070 Bhadra - Nepali Patro 2070 Bhadra </title>\n",
      "<meta name=\"description\" content=\"Nepali calendar 2070 Bhadra. Nepali calendar 2070 is the multicultural bikram sambat nepali patro with Events and Festivals of all the cultural ethnic groups of Nepal. Nepali patro 2070 Bhadra, \n"
     ]
    }
   ],
   "source": [
    "print(res.text[:500])"
   ]
  },
  {
   "cell_type": "code",
   "execution_count": 9,
   "metadata": {},
   "outputs": [],
   "source": [
    "calendar_soup = bs4.BeautifulSoup(res.text, 'html.parser')"
   ]
  },
  {
   "cell_type": "code",
   "execution_count": 10,
   "metadata": {},
   "outputs": [
    {
     "data": {
      "text/plain": [
       "bs4.BeautifulSoup"
      ]
     },
     "execution_count": 10,
     "metadata": {},
     "output_type": "execute_result"
    }
   ],
   "source": [
    "type(calendar_soup)"
   ]
  },
  {
   "cell_type": "code",
   "execution_count": 11,
   "metadata": {},
   "outputs": [],
   "source": [
    "table_sec = calendar_soup.select('.sec')"
   ]
  },
  {
   "cell_type": "code",
   "execution_count": 12,
   "metadata": {},
   "outputs": [
    {
     "data": {
      "text/plain": [
       "bs4.element.ResultSet"
      ]
     },
     "execution_count": 12,
     "metadata": {},
     "output_type": "execute_result"
    }
   ],
   "source": [
    "type(table_sec)"
   ]
  },
  {
   "cell_type": "code",
   "execution_count": 13,
   "metadata": {},
   "outputs": [],
   "source": [
    "# table_sec"
   ]
  },
  {
   "cell_type": "code",
   "execution_count": 14,
   "metadata": {},
   "outputs": [
    {
     "data": {
      "text/plain": [
       "26"
      ]
     },
     "execution_count": 14,
     "metadata": {},
     "output_type": "execute_result"
    }
   ],
   "source": [
    "event_one = calendar_soup.select('.event_one')\n",
    "len(event_one)"
   ]
  },
  {
   "cell_type": "code",
   "execution_count": 15,
   "metadata": {},
   "outputs": [
    {
     "data": {
      "text/plain": [
       "25"
      ]
     },
     "execution_count": 15,
     "metadata": {},
     "output_type": "execute_result"
    }
   ],
   "source": [
    "rotate_left = calendar_soup.select('.rotate_left')\n",
    "len(rotate_left)"
   ]
  },
  {
   "cell_type": "code",
   "execution_count": 16,
   "metadata": {},
   "outputs": [
    {
     "data": {
      "text/plain": [
       "25"
      ]
     },
     "execution_count": 16,
     "metadata": {},
     "output_type": "execute_result"
    }
   ],
   "source": [
    "rotate_right = calendar_soup.select('.rotate_right')\n",
    "len(rotate_right)\n"
   ]
  },
  {
   "cell_type": "code",
   "execution_count": 17,
   "metadata": {},
   "outputs": [
    {
     "data": {
      "text/plain": [
       "25"
      ]
     },
     "execution_count": 17,
     "metadata": {},
     "output_type": "execute_result"
    }
   ],
   "source": [
    "date_np = calendar_soup.select('.date_np')\n",
    "len(date_np)\n"
   ]
  },
  {
   "cell_type": "code",
   "execution_count": 18,
   "metadata": {},
   "outputs": [
    {
     "data": {
      "text/plain": [
       "25"
      ]
     },
     "execution_count": 18,
     "metadata": {},
     "output_type": "execute_result"
    }
   ],
   "source": [
    "date_en = calendar_soup.select('.date_en')\n",
    "len(date_en)\n"
   ]
  },
  {
   "cell_type": "code",
   "execution_count": 19,
   "metadata": {},
   "outputs": [
    {
     "data": {
      "text/plain": [
       "25"
      ]
     },
     "execution_count": 19,
     "metadata": {},
     "output_type": "execute_result"
    }
   ],
   "source": [
    "tithi = calendar_soup.select('.tithi')\n",
    "len(tithi)"
   ]
  },
  {
   "cell_type": "code",
   "execution_count": 20,
   "metadata": {},
   "outputs": [
    {
     "data": {
      "text/plain": [
       "' एकादशी '"
      ]
     },
     "execution_count": 20,
     "metadata": {},
     "output_type": "execute_result"
    }
   ],
   "source": [
    "tithi[0].get_text()"
   ]
  },
  {
   "cell_type": "code",
   "execution_count": 21,
   "metadata": {},
   "outputs": [
    {
     "data": {
      "text/plain": [
       "'\\xa0'"
      ]
     },
     "execution_count": 21,
     "metadata": {},
     "output_type": "execute_result"
    }
   ],
   "source": [
    "event_one[3].get_text()"
   ]
  },
  {
   "cell_type": "code",
   "execution_count": 22,
   "metadata": {},
   "outputs": [
    {
     "data": {
      "text/plain": [
       "''"
      ]
     },
     "execution_count": 22,
     "metadata": {},
     "output_type": "execute_result"
    }
   ],
   "source": [
    "event_one[3].get_text(strip=True)"
   ]
  },
  {
   "cell_type": "code",
   "execution_count": 23,
   "metadata": {},
   "outputs": [
    {
     "data": {
      "text/plain": [
       "''"
      ]
     },
     "execution_count": 23,
     "metadata": {},
     "output_type": "execute_result"
    }
   ],
   "source": [
    "event_one[0].get_text(strip=True)"
   ]
  },
  {
   "cell_type": "code",
   "execution_count": 24,
   "metadata": {},
   "outputs": [
    {
     "data": {
      "text/plain": [
       "'15'"
      ]
     },
     "execution_count": 24,
     "metadata": {},
     "output_type": "execute_result"
    }
   ],
   "source": [
    "date_en[0].string"
   ]
  },
  {
   "cell_type": "code",
   "execution_count": 25,
   "metadata": {},
   "outputs": [],
   "source": [
    "month = {}\n",
    "for i in range(len(date_np)):\n",
    "  day = {  'event_one': event_one[i].get_text(strip=True),\n",
    "      'rotate_left': rotate_left[i].get_text(strip=True),\n",
    "      'rotate_right': rotate_right[i].get_text(strip=True),\n",
    "      'date_np': date_np[i].get_text(strip=True),\n",
    "      'date_en': date_en[i].get_text(strip=True),\n",
    "      'tithi': tithi[i].get_text(strip=True),\n",
    "    }\n",
    "  month[f'{i+1}'] = day\n",
    "  \n"
   ]
  },
  {
   "cell_type": "code",
   "execution_count": 26,
   "metadata": {},
   "outputs": [],
   "source": [
    "# month"
   ]
  },
  {
   "cell_type": "code",
   "execution_count": 27,
   "metadata": {},
   "outputs": [],
   "source": [
    "import json"
   ]
  },
  {
   "cell_type": "code",
   "execution_count": 28,
   "metadata": {},
   "outputs": [],
   "source": [
    "# print(json.dumps(month, indent=2, ensure_ascii=False))"
   ]
  },
  {
   "cell_type": "code",
   "execution_count": 29,
   "metadata": {},
   "outputs": [
    {
     "name": "stdout",
     "output_type": "stream",
     "text": [
      "Bhadra.json\n"
     ]
    }
   ],
   "source": [
    "file = 'Bhadra.json'\n",
    "print(file)\n",
    "with open(file, 'w') as outfile:\n",
    "  json.dump(month, outfile, ensure_ascii=False)\n"
   ]
  },
  {
   "cell_type": "code",
   "execution_count": 32,
   "metadata": {},
   "outputs": [
    {
     "name": "stdout",
     "output_type": "stream",
     "text": [
      "Baishakh.json\n",
      "Jestha.json\n",
      "Ashadh.json\n",
      "Shrawan.json\n",
      "Bhadra.json\n",
      "Ashwin.json\n",
      "Kartik.json\n",
      "Mangsir.json\n",
      "Poush.json\n",
      "Magh.json\n",
      "Falgun.json\n",
      "Chaitra.json\n"
     ]
    }
   ],
   "source": [
    "year = 2070\n",
    "months = ['Baishakh', 'Jestha', 'Ashadh', 'Shrawan', 'Bhadra', 'Ashwin', 'Kartik', 'Mangsir', 'Poush', 'Magh', 'Falgun', 'Chaitra']\n",
    "for month in months:\n",
    "  # print(month)\n",
    "  res = requests.get(\n",
    "      f'https://www.ashesh.com.np/nepali-calendar/?year={year}&month={month}'\n",
    "  )\n",
    "  res.raise_for_status()\n",
    "\n",
    "  calendar_soup = bs4.BeautifulSoup(res.text, 'html.parser')\n",
    "\n",
    "  event_one = calendar_soup.select('.event_one')\n",
    "  rotate_left = calendar_soup.select('.rotate_left')\n",
    "  rotate_right = calendar_soup.select('.rotate_right')\n",
    "  date_np = calendar_soup.select('.date_np')\n",
    "  date_en = calendar_soup.select('.date_en')\n",
    "  tithi = calendar_soup.select('.tithi')\n",
    "\n",
    "  month_dict = {}\n",
    "  for i in range(len(date_np)):\n",
    "    day = date_np[i].get_text(strip=True)\n",
    "    day_dict = {'event_main': event_one[i].get_text(strip=True),\n",
    "                'extra_1': rotate_left[i].get_text(strip=True),\n",
    "                'extra_2': rotate_right[i].get_text(strip=True),\n",
    "                'date_np': day,\n",
    "                'date_en': date_en[i].get_text(strip=True),\n",
    "                'tithi': tithi[i].get_text(strip=True),\n",
    "                }\n",
    "    month_dict[day] = day_dict\n",
    "\n",
    "\n",
    "  file = f'{month}.json'\n",
    "  print(file)\n",
    "  with open(file, 'w') as outfile:\n",
    "    json.dump(month_dict, outfile, ensure_ascii=False)\n",
    "\n",
    "    \n"
   ]
  },
  {
   "cell_type": "code",
   "execution_count": 43,
   "metadata": {},
   "outputs": [
    {
     "name": "stdout",
     "output_type": "stream",
     "text": [
      "Baishakh\n",
      "Jestha\n",
      "Ashadh\n",
      "Shrawan\n",
      "Bhadra\n",
      "Ashwin\n",
      "Kartik\n",
      "Mangsir\n",
      "Poush\n",
      "Magh\n",
      "Falgun\n",
      "Chaitra\n"
     ]
    }
   ],
   "source": [
    "day_flag = 0\n",
    "months = ['Baishakh', 'Jestha', 'Ashadh', 'Shrawan', 'Bhadra',\n",
    "          'Ashwin', 'Kartik', 'Mangsir', 'Poush', 'Magh', 'Falgun', 'Chaitra']\n",
    "week_days = ['Sun', 'Mon', 'Tue', 'Wed', 'Thu', 'Fri', 'Sat']\n",
    "\n",
    "year_dict = {}\n",
    "for month in months:\n",
    "  filename = f'{month}.json'\n",
    "  with open(filename, 'r') as file:\n",
    "    data = json.load(file)\n",
    "\n",
    "  for i in range(len(data)):\n",
    "    data[str(i+1)]['week_day'] = week_days[day_flag]\n",
    "    day_flag = (day_flag + 1) % 7\n",
    "\n",
    "  with open(filename, 'w') as file:\n",
    "    json.dump(data, file, ensure_ascii=False)\n",
    "  \n",
    "  year_dict[month] = data\n",
    "\n",
    "with open('2070.json', 'w') as file:\n",
    "  json.dump(year_dict, file, ensure_ascii=False)  \n"
   ]
  },
  {
   "cell_type": "code",
   "execution_count": null,
   "metadata": {},
   "outputs": [],
   "source": []
  }
 ],
 "metadata": {
  "interpreter": {
   "hash": "31f2aee4e71d21fbe5cf8b01ff0e069b9275f58929596ceb00d14d90e3e16cd6"
  },
  "kernelspec": {
   "display_name": "Python 3.8.10 64-bit",
   "language": "python",
   "name": "python3"
  },
  "language_info": {
   "codemirror_mode": {
    "name": "ipython",
    "version": 3
   },
   "file_extension": ".py",
   "mimetype": "text/x-python",
   "name": "python",
   "nbconvert_exporter": "python",
   "pygments_lexer": "ipython3",
   "version": "3.8.10"
  },
  "orig_nbformat": 4
 },
 "nbformat": 4,
 "nbformat_minor": 2
}

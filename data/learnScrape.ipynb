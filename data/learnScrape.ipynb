{
 "cells": [
  {
   "cell_type": "code",
   "execution_count": 4,
   "metadata": {},
   "outputs": [],
   "source": [
    "import webbrowser"
   ]
  },
  {
   "cell_type": "code",
   "execution_count": 5,
   "metadata": {},
   "outputs": [],
   "source": [
    "import requests, bs4"
   ]
  },
  {
   "cell_type": "code",
   "execution_count": 6,
   "metadata": {},
   "outputs": [],
   "source": [
    "res = requests.get(\n",
    "    'https://www.ashesh.com.np/nepali-calendar/?year=2078&month=Magh'\n",
    "    )\n"
   ]
  },
  {
   "cell_type": "code",
   "execution_count": 7,
   "metadata": {},
   "outputs": [],
   "source": [
    "res.raise_for_status()"
   ]
  },
  {
   "cell_type": "code",
   "execution_count": 8,
   "metadata": {},
   "outputs": [
    {
     "data": {
      "text/plain": [
       "requests.models.Response"
      ]
     },
     "execution_count": 8,
     "metadata": {},
     "output_type": "execute_result"
    }
   ],
   "source": [
    "type(res)"
   ]
  },
  {
   "cell_type": "code",
   "execution_count": 10,
   "metadata": {},
   "outputs": [
    {
     "data": {
      "text/plain": [
       "True"
      ]
     },
     "execution_count": 10,
     "metadata": {},
     "output_type": "execute_result"
    }
   ],
   "source": [
    "res.status_code == requests.codes.ok"
   ]
  },
  {
   "cell_type": "code",
   "execution_count": 12,
   "metadata": {},
   "outputs": [
    {
     "data": {
      "text/plain": [
       "34870"
      ]
     },
     "execution_count": 12,
     "metadata": {},
     "output_type": "execute_result"
    }
   ],
   "source": [
    "len(res.text)"
   ]
  },
  {
   "cell_type": "code",
   "execution_count": 15,
   "metadata": {},
   "outputs": [
    {
     "name": "stdout",
     "output_type": "stream",
     "text": [
      "<!DOCTYPE html>\n",
      "<html lang=\"en\">\n",
      "<head>\n",
      "<meta http-equiv=\"Content-Type\" content=\"text/html; charset=UTF-8\" />\n",
      "<meta name=\"apple-itunes-app\" content=\"app-id=1273057004, affiliate-data=myAffiliateData\">\n",
      "<title>Nepali Calendar 2078 Magh - Nepali Patro 2078 Magh </title>\n",
      "<meta name=\"description\" content=\"Nepali calendar 2078 Magh. Nepali calendar 2078 is the multicultural bikram sambat nepali patro with Events and Festivals of all the cultural ethnic groups of Nepal. Nepali patro 2078 Magh, Dashain \n"
     ]
    }
   ],
   "source": [
    "print(res.text[:500])"
   ]
  },
  {
   "cell_type": "code",
   "execution_count": 16,
   "metadata": {},
   "outputs": [],
   "source": [
    "calendar_soup = bs4.BeautifulSoup(res.text, 'html.parser')"
   ]
  },
  {
   "cell_type": "code",
   "execution_count": 17,
   "metadata": {},
   "outputs": [
    {
     "data": {
      "text/plain": [
       "bs4.BeautifulSoup"
      ]
     },
     "execution_count": 17,
     "metadata": {},
     "output_type": "execute_result"
    }
   ],
   "source": [
    "type(calendar_soup)"
   ]
  },
  {
   "cell_type": "code",
   "execution_count": 19,
   "metadata": {},
   "outputs": [],
   "source": [
    "table_sec = calendar_soup.select('.sec')"
   ]
  },
  {
   "cell_type": "code",
   "execution_count": 20,
   "metadata": {},
   "outputs": [
    {
     "data": {
      "text/plain": [
       "bs4.element.ResultSet"
      ]
     },
     "execution_count": 20,
     "metadata": {},
     "output_type": "execute_result"
    }
   ],
   "source": [
    "type(table_sec)"
   ]
  },
  {
   "cell_type": "code",
   "execution_count": 22,
   "metadata": {},
   "outputs": [
    {
     "data": {
      "text/plain": [
       "[<div align=\"center\" class=\"sec\">\n",
       " <table id=\"calendartable\">\n",
       " <tr>\n",
       " <td bgcolor=\"#D5D5D5\" colspan=\"7\"><div class=\"cal_warp\">\n",
       " <div class=\"cal_left\">\n",
       " MAGH 2078 </div>\n",
       " <div class=\"cal_center\">\n",
       " <div class=\"csstoday\">\n",
       " <a href=\"?year=2078&amp;month=Poush\" title=\"2078 Poush\">Poush </a> ◄ |\n",
       " <a href=\"https://www.ashesh.com.np/nepali-calendar/\" title=\"Nepali calendar\">Today</a>\n",
       " ► <a href=\"?year=2078&amp;month=Falgun\" title=\"2078 Falgun\">Falgun </a>\n",
       " </div>\n",
       " <div class=\"csstoday_mob\">\n",
       " <a href=\"?year=2078&amp;month=Poush\" title=\"2078 Poush\">◄</a> |\n",
       " <a href=\"https://www.ashesh.com.np/nepali-calendar/\" title=\"Nepali calendar\">Today</a>\n",
       " <a href=\"?year=2078&amp;month=Falgun\" title=\"2078 Falgun\">►</a>\n",
       " </div>\n",
       " </div> <div class=\"cal_right\">\n",
       " JAN-FEB 2022 </div>\n",
       " <span class=\"stretch\"></span>\n",
       " </div></td>\n",
       " </tr>\n",
       " <tr bgcolor=\"#EDEDED\">\n",
       " <td><div class=\"day_np\">Sunday</div></td>\n",
       " <td><div class=\"day_np\">Monday</div></td>\n",
       " <td><div class=\"day_np\">Tuesday</div></td>\n",
       " <td><div class=\"day_np\">Wednesday</div></td>\n",
       " <td><div class=\"day_np\">Thursday</div></td>\n",
       " <td><div class=\"day_np\">Friday</div></td>\n",
       " <td><div class=\"day_np\">Saturday</div></td>\n",
       " </tr>\n",
       " <tr>\n",
       " <td></td>\n",
       " <td></td>\n",
       " <td></td>\n",
       " <td></td>\n",
       " <td></td>\n",
       " <td></td>\n",
       " <td style=\"color:#FF4D00\">\n",
       " <div class=\"event_one\">माघे संक्रान्ति (घ्यःचाकु सल्हु)</div>\n",
       " <div class=\"rotate_left\"></div>\n",
       " <div class=\"date_np\">1</div>\n",
       " <div class=\"rotate_right\"></div>\n",
       " <div class=\"tithi\"> Trayodashi </div>\n",
       " <div class=\"date_en\">15</div></td>\n",
       " </tr>\n",
       " <tr>\n",
       " <td>\n",
       " <div class=\"event_one\" style=\"color:#89BB0E\">राष्ट्रीय भूकम्प सुरक्षा दिवस</div>\n",
       " <div class=\"rotate_left\"></div>\n",
       " <div class=\"date_np\">2</div>\n",
       " <div class=\"rotate_right\"></div>\n",
       " <div class=\"tithi\"> Chaturdashi </div>\n",
       " <div class=\"date_en\">16</div></td>\n",
       " <td>\n",
       " <div class=\"event_one\">श्री स्वस्थानी व्रत आरम्भ</div>\n",
       " <div class=\"rotate_left\"></div>\n",
       " <div class=\"date_np\">3</div>\n",
       " <div class=\"rotate_right\"></div>\n",
       " <div class=\"tithi\"> Purnima </div>\n",
       " <div class=\"date_en\">17</div></td>\n",
       " <td>\n",
       " <div class=\"event_one\"> </div>\n",
       " <div class=\"rotate_left\"></div>\n",
       " <div class=\"date_np\">4</div>\n",
       " <div class=\"rotate_right\"></div>\n",
       " <div class=\"tithi\"> Pratipada </div>\n",
       " <div class=\"date_en\">18</div></td>\n",
       " <td>\n",
       " <div class=\"event_one\"> </div>\n",
       " <div class=\"rotate_left\"></div>\n",
       " <div class=\"date_np\">5</div>\n",
       " <div class=\"rotate_right\"></div>\n",
       " <div class=\"tithi\"> Pratipada </div>\n",
       " <div class=\"date_en\">19</div></td>\n",
       " <td>\n",
       " <div class=\"event_one\"> </div>\n",
       " <div class=\"rotate_left\"></div>\n",
       " <div class=\"date_np\">6</div>\n",
       " <div class=\"rotate_right\"></div>\n",
       " <div class=\"tithi\"> Dwitiya </div>\n",
       " <div class=\"date_en\">20</div></td>\n",
       " <td>\n",
       " <div class=\"event_one\"> </div>\n",
       " <div class=\"rotate_left\"></div>\n",
       " <div class=\"date_np\">7</div>\n",
       " <div class=\"rotate_right\"></div>\n",
       " <div class=\"tithi\"> Tritiya </div>\n",
       " <div class=\"date_en\">21</div></td>\n",
       " <td style=\"color:#FF4D00\">\n",
       " <div class=\"event_one\"> </div>\n",
       " <div class=\"rotate_left\"></div>\n",
       " <div class=\"date_np\">8</div>\n",
       " <div class=\"rotate_right\"></div>\n",
       " <div class=\"tithi\"> Chaturthi </div>\n",
       " <div class=\"date_en\">22</div></td>\n",
       " </tr>\n",
       " <tr>\n",
       " <td width=\"80\">\n",
       " <div class=\"event_one\"> </div>\n",
       " <div class=\"rotate_left\"></div>\n",
       " <div class=\"date_np\">9</div>\n",
       " <div class=\"rotate_right\"></div>\n",
       " <div class=\"tithi\"> Panchami </div>\n",
       " <div class=\"date_en\">23</div></td>\n",
       " <td width=\"80\">\n",
       " <div class=\"event_one\"> </div>\n",
       " <div class=\"rotate_left\"></div>\n",
       " <div class=\"date_np\">10</div>\n",
       " <div class=\"rotate_right\"></div>\n",
       " <div class=\"tithi\"> Sasthi </div>\n",
       " <div class=\"date_en\">24</div></td>\n",
       " <td width=\"80\">\n",
       " <div class=\"event_one\"> </div>\n",
       " <div class=\"rotate_left\"></div>\n",
       " <div class=\"date_np\">11</div>\n",
       " <div class=\"rotate_right\"></div>\n",
       " <div class=\"tithi\"> Saptami </div>\n",
       " <div class=\"date_en\">25</div></td>\n",
       " <td width=\"80\">\n",
       " <div class=\"event_one\" style=\"color:#89BB0E\">विश्व भन्सार दिवस</div>\n",
       " <div class=\"rotate_left\"></div>\n",
       " <div class=\"date_np\">12</div>\n",
       " <div class=\"rotate_right\"></div>\n",
       " <div class=\"tithi\"> Nawami </div>\n",
       " <div class=\"date_en\">26</div></td>\n",
       " <td width=\"80\">\n",
       " <div class=\"event_one\"> </div>\n",
       " <div class=\"rotate_left\"></div>\n",
       " <div class=\"date_np\">13</div>\n",
       " <div class=\"rotate_right\"></div>\n",
       " <div class=\"tithi\"> Dashami </div>\n",
       " <div class=\"date_en\">27</div></td>\n",
       " <td width=\"80\">\n",
       " <div class=\"event_one\"> </div>\n",
       " <div class=\"rotate_left\"></div>\n",
       " <div class=\"date_np\">14</div>\n",
       " <div class=\"rotate_right\"></div>\n",
       " <div class=\"tithi\"> Ekadashi </div>\n",
       " <div class=\"date_en\">28</div></td>\n",
       " <td style=\"color:#FF4D00\" width=\"80\">\n",
       " <div class=\"event_one\" style=\"color:#89BB0E\">नेपाल नर्सिंग दिवस</div>\n",
       " <div class=\"rotate_left\"></div>\n",
       " <div class=\"date_np\">15</div>\n",
       " <div class=\"rotate_right\"></div>\n",
       " <div class=\"tithi\"> Dwadashi </div>\n",
       " <div class=\"date_en\">29</div></td>\n",
       " </tr>\n",
       " <tr>\n",
       " <td>\n",
       " <div class=\"event_one\" style=\"color:#89BB0E\">राष्ट्रिय सहिद दिवस</div>\n",
       " <div class=\"rotate_left\"></div>\n",
       " <div class=\"date_np\">16</div>\n",
       " <div class=\"rotate_right\"></div>\n",
       " <div class=\"tithi\"> Trayodashi </div>\n",
       " <div class=\"date_en\">30</div></td>\n",
       " <td>\n",
       " <div class=\"event_one\"> </div>\n",
       " <div class=\"rotate_left\"></div>\n",
       " <div class=\"date_np\">17</div>\n",
       " <div class=\"rotate_right\"></div>\n",
       " <div class=\"tithi\"> Chaturdashi </div>\n",
       " <div class=\"date_en\">31</div></td>\n",
       " <td>\n",
       " <div class=\"event_one\"> </div>\n",
       " <div class=\"rotate_left\"></div>\n",
       " <div class=\"date_np\">18</div>\n",
       " <div class=\"rotate_right\"></div>\n",
       " <div class=\"tithi\"> Aaunsi </div>\n",
       " <div class=\"date_en\">1</div></td>\n",
       " <td>\n",
       " <div class=\"event_one\" style=\"color:#FF4D00\">सोनाम ल्होसार</div>\n",
       " <div class=\"rotate_left\" style=\"color:#89BB0E\">विश्व सिमसार दिवस</div>\n",
       " <div class=\"date_np\" style=\"color: #FF4D00\">19</div>\n",
       " <div class=\"rotate_right\" style=\"color:#FF4D00\"></div>\n",
       " <div class=\"tithi\" style=\"color:#FF4D00\"> Pratipada </div>\n",
       " <div class=\"date_en\">2</div></td>\n",
       " <td bgcolor=\"#D5D5D5\">\n",
       " <div class=\"event_one\"> </div>\n",
       " <div class=\"rotate_left\"></div>\n",
       " <div class=\"date_np\">20</div>\n",
       " <div class=\"rotate_right\"></div>\n",
       " <div class=\"tithi\"> Tritiya </div>\n",
       " <div class=\"date_en\">3</div></td>\n",
       " <td>\n",
       " <div class=\"event_one\" style=\"color:#89BB0E\">विश्व क्यान्सर दिवस</div>\n",
       " <div class=\"rotate_left\"></div>\n",
       " <div class=\"date_np\">21</div>\n",
       " <div class=\"rotate_right\"></div>\n",
       " <div class=\"tithi\"> Chaturthi </div>\n",
       " <div class=\"date_en\">4</div></td>\n",
       " <td style=\"color:#FF4D00\">\n",
       " <div class=\"event_one\"> </div>\n",
       " <div class=\"rotate_left\"></div>\n",
       " <div class=\"date_np\">22</div>\n",
       " <div class=\"rotate_right\"></div>\n",
       " <div class=\"tithi\"> Panchami </div>\n",
       " <div class=\"date_en\">5</div></td>\n",
       " </tr>\n",
       " <tr>\n",
       " <td>\n",
       " <div class=\"event_one\" style=\"color:#FF4D00\">श्रीपञ्चमी (शिक्षण संस्था मात्र)</div>\n",
       " <div class=\"rotate_left\" style=\"color:#FF4D00\"></div>\n",
       " <div class=\"date_np\" style=\"color: #FF4D00\">23</div>\n",
       " <div class=\"rotate_right\" style=\"color:#FF4D00\"></div>\n",
       " <div class=\"tithi\" style=\"color:#FF4D00\"> Sasthi </div>\n",
       " <div class=\"date_en\">6</div></td>\n",
       " <td>\n",
       " <div class=\"event_one\"> </div>\n",
       " <div class=\"rotate_left\"></div>\n",
       " <div class=\"date_np\">24</div>\n",
       " <div class=\"rotate_right\"></div>\n",
       " <div class=\"tithi\"> Saptami </div>\n",
       " <div class=\"date_en\">7</div></td>\n",
       " <td>\n",
       " <div class=\"event_one\"> </div>\n",
       " <div class=\"rotate_left\"></div>\n",
       " <div class=\"date_np\">25</div>\n",
       " <div class=\"rotate_right\"></div>\n",
       " <div class=\"tithi\"> Astami </div>\n",
       " <div class=\"date_en\">8</div></td>\n",
       " <td>\n",
       " <div class=\"event_one\"> </div>\n",
       " <div class=\"rotate_left\"></div>\n",
       " <div class=\"date_np\">26</div>\n",
       " <div class=\"rotate_right\"></div>\n",
       " <div class=\"tithi\"> Astami </div>\n",
       " <div class=\"date_en\">9</div></td>\n",
       " <td>\n",
       " <div class=\"event_one\"> </div>\n",
       " <div class=\"rotate_left\"></div>\n",
       " <div class=\"date_np\">27</div>\n",
       " <div class=\"rotate_right\"></div>\n",
       " <div class=\"tithi\"> Nawami </div>\n",
       " <div class=\"date_en\">10</div></td>\n",
       " <td>\n",
       " <div class=\"event_one\"> </div>\n",
       " <div class=\"rotate_left\"></div>\n",
       " <div class=\"date_np\">28</div>\n",
       " <div class=\"rotate_right\"></div>\n",
       " <div class=\"tithi\"> Dashami </div>\n",
       " <div class=\"date_en\">11</div></td>\n",
       " <td style=\"color:#FF4D00\">\n",
       " <div class=\"event_one\"> </div>\n",
       " <div class=\"rotate_left\"></div>\n",
       " <div class=\"date_np\">29</div>\n",
       " <div class=\"rotate_right\"></div>\n",
       " <div class=\"tithi\"> Ekadashi </div>\n",
       " <div class=\"date_en\">12</div></td>\n",
       " </tr>\n",
       " </table>\n",
       " <div align=\"center\" style=\"width: 96%; background-color: rgb(230, 230, 230);border-left: 2px solid rgb(216, 210, 210);border-right: 2px solid rgb(216, 210, 210);border-bottom: 2px solid rgb(216, 210, 210);padding: 0 5px;text-align: left;font-size: 13px;color: rgb(99, 99, 99);text-align: center;margin: 0 auto;\">\n",
       " <div style=\"float: left;padding: 0 5px;background-color: rgb(198, 198, 198); border-radius: 3px;margin: 3px;font-weight: 600;\">Subha Sait:</div>\n",
       " <div style=\"float: left;padding: 0 5px;background-color: rgb(255, 188, 183);border-radius: 3px;margin: 3px;\">Marriage: none </div>\n",
       " <div style=\"float: left;padding: 0 5px;background-color: rgb(178, 224, 255);border-radius: 3px; margin: 3px;\">Pasni: 13,20,24,28 </div>\n",
       " <div style=\"float: left;padding: 0 5px;background-color: rgb(255, 237, 148); border-radius: 3px; margin: 3px;\">Bratabandha: 20,28 </div>\n",
       " <div class=\"clear\"></div>\n",
       " </div>\n",
       " <div align=\"center\">\n",
       " <br/>\n",
       " <strong>Generate Nepali Calendar</strong>\n",
       " <form action=\"https://www.ashesh.com.np/nepali-calendar/\" id=\"form\" method=\"get\" name=\"form\">\n",
       " <label>Year\n",
       " <select id=\"year\" name=\"year\">\n",
       " <option>1970</option><option>1971</option><option>1972</option><option>1973</option><option>1974</option><option>1975</option><option>1976</option><option>1977</option><option>1978</option><option>1979</option><option>1980</option><option>1981</option><option>1982</option><option>1983</option><option>1984</option><option>1985</option><option>1986</option><option>1987</option><option>1988</option><option>1989</option><option>1990</option><option>1991</option><option>1992</option><option>1993</option><option>1994</option><option>1995</option><option>1996</option><option>1997</option><option>1998</option><option>1999</option><option>2000</option><option>2001</option><option>2002</option><option>2003</option><option>2004</option><option>2005</option><option>2006</option><option>2007</option><option>2008</option><option>2009</option><option>2010</option><option>2011</option><option>2012</option><option>2013</option><option>2014</option><option>2015</option><option>2016</option><option>2017</option><option>2018</option><option>2019</option><option>2020</option><option>2021</option><option>2022</option><option>2023</option><option>2024</option><option>2025</option><option>2026</option><option>2027</option><option>2028</option><option>2029</option><option>2030</option><option>2031</option><option>2032</option><option>2033</option><option>2034</option><option>2035</option><option>2036</option><option>2037</option><option>2038</option><option>2039</option><option>2040</option><option>2041</option><option>2042</option><option>2043</option><option>2044</option><option>2045</option><option>2046</option><option>2047</option><option>2048</option><option>2049</option><option>2050</option><option>2051</option><option>2052</option><option>2053</option><option>2054</option><option>2055</option><option>2056</option><option>2057</option><option>2058</option><option>2059</option><option>2060</option><option>2061</option><option>2062</option><option>2063</option><option>2064</option><option>2065</option><option>2066</option><option>2067</option><option>2068</option><option>2069</option><option>2070</option><option>2071</option><option>2072</option><option>2073</option><option>2074</option><option>2075</option><option>2076</option><option>2077</option><option selected=\"selected\">2078</option><option>2079</option> </select>\n",
       " </label>\n",
       " <label> Month\n",
       " <select id=\"month\" name=\"month\">\n",
       " <option>Baishakh</option>\n",
       " <option>Jestha</option>\n",
       " <option>Ashadh</option>\n",
       " <option>Shrawan</option>\n",
       " <option>Bhadra</option>\n",
       " <option>Ashwin</option>\n",
       " <option>Kartik</option>\n",
       " <option>Mangsir</option>\n",
       " <option>Poush</option>\n",
       " <option selected=\"selected\">Magh</option>\n",
       " <option>Falgun</option>\n",
       " <option>Chaitra</option>\n",
       " </select>\n",
       " </label>\n",
       " <label><input type=\"submit\" value=\"Go\"/></label>\n",
       " </form>\n",
       " </div>\n",
       " </div>]"
      ]
     },
     "execution_count": 22,
     "metadata": {},
     "output_type": "execute_result"
    }
   ],
   "source": [
    "table_sec"
   ]
  },
  {
   "cell_type": "code",
   "execution_count": 35,
   "metadata": {},
   "outputs": [
    {
     "data": {
      "text/plain": [
       "29"
      ]
     },
     "execution_count": 35,
     "metadata": {},
     "output_type": "execute_result"
    }
   ],
   "source": [
    "event_one = calendar_soup.select('.event_one')\n",
    "len(event_one)"
   ]
  },
  {
   "cell_type": "code",
   "execution_count": 36,
   "metadata": {},
   "outputs": [
    {
     "data": {
      "text/plain": [
       "29"
      ]
     },
     "execution_count": 36,
     "metadata": {},
     "output_type": "execute_result"
    }
   ],
   "source": [
    "rotate_left = calendar_soup.select('.rotate_left')\n",
    "len(rotate_left)"
   ]
  },
  {
   "cell_type": "code",
   "execution_count": 37,
   "metadata": {},
   "outputs": [
    {
     "data": {
      "text/plain": [
       "29"
      ]
     },
     "execution_count": 37,
     "metadata": {},
     "output_type": "execute_result"
    }
   ],
   "source": [
    "rotate_right = calendar_soup.select('.rotate_right')\n",
    "len(rotate_right)\n"
   ]
  },
  {
   "cell_type": "code",
   "execution_count": 38,
   "metadata": {},
   "outputs": [
    {
     "data": {
      "text/plain": [
       "29"
      ]
     },
     "execution_count": 38,
     "metadata": {},
     "output_type": "execute_result"
    }
   ],
   "source": [
    "date_np = calendar_soup.select('.date_np')\n",
    "len(date_np)\n"
   ]
  },
  {
   "cell_type": "code",
   "execution_count": 39,
   "metadata": {},
   "outputs": [
    {
     "data": {
      "text/plain": [
       "29"
      ]
     },
     "execution_count": 39,
     "metadata": {},
     "output_type": "execute_result"
    }
   ],
   "source": [
    "date_en = calendar_soup.select('.date_en')\n",
    "len(date_en)\n"
   ]
  },
  {
   "cell_type": "code",
   "execution_count": 40,
   "metadata": {},
   "outputs": [
    {
     "data": {
      "text/plain": [
       "29"
      ]
     },
     "execution_count": 40,
     "metadata": {},
     "output_type": "execute_result"
    }
   ],
   "source": [
    "tithi = calendar_soup.select('.tithi')\n",
    "len(tithi)"
   ]
  },
  {
   "cell_type": "code",
   "execution_count": 45,
   "metadata": {},
   "outputs": [
    {
     "data": {
      "text/plain": [
       "' Trayodashi '"
      ]
     },
     "execution_count": 45,
     "metadata": {},
     "output_type": "execute_result"
    }
   ],
   "source": [
    "tithi[0].get_text()"
   ]
  },
  {
   "cell_type": "code",
   "execution_count": 43,
   "metadata": {},
   "outputs": [
    {
     "data": {
      "text/plain": [
       "'\\xa0'"
      ]
     },
     "execution_count": 43,
     "metadata": {},
     "output_type": "execute_result"
    }
   ],
   "source": [
    "event_one[3].get_text()"
   ]
  },
  {
   "cell_type": "code",
   "execution_count": 50,
   "metadata": {},
   "outputs": [
    {
     "data": {
      "text/plain": [
       "''"
      ]
     },
     "execution_count": 50,
     "metadata": {},
     "output_type": "execute_result"
    }
   ],
   "source": [
    "event_one[3].get_text(strip=True)"
   ]
  },
  {
   "cell_type": "code",
   "execution_count": 51,
   "metadata": {},
   "outputs": [
    {
     "data": {
      "text/plain": [
       "'माघे संक्रान्ति (घ्यःचाकु सल्हु)'"
      ]
     },
     "execution_count": 51,
     "metadata": {},
     "output_type": "execute_result"
    }
   ],
   "source": [
    "event_one[0].get_text(strip=True)"
   ]
  },
  {
   "cell_type": "code",
   "execution_count": 49,
   "metadata": {},
   "outputs": [
    {
     "data": {
      "text/plain": [
       "'15'"
      ]
     },
     "execution_count": 49,
     "metadata": {},
     "output_type": "execute_result"
    }
   ],
   "source": [
    "date_en[0].string"
   ]
  },
  {
   "cell_type": "code",
   "execution_count": 57,
   "metadata": {},
   "outputs": [],
   "source": [
    "magh = {}\n",
    "for i in range(len(date_np)):\n",
    "  day = {  'event_one': event_one[i].get_text(strip=True),\n",
    "      'rotate_left': rotate_left[i].get_text(strip=True),\n",
    "      'rotate_right': rotate_right[i].get_text(strip=True),\n",
    "      'date_en': date_en[i].get_text(strip=True),\n",
    "      'tithi': tithi[i].get_text(strip=True),\n",
    "    }\n",
    "  magh[f'{i+1}'] = day\n",
    "  \n"
   ]
  },
  {
   "cell_type": "code",
   "execution_count": 58,
   "metadata": {},
   "outputs": [
    {
     "data": {
      "text/plain": [
       "{'1': {'event_one': 'माघे संक्रान्ति (घ्यःचाकु सल्हु)',\n",
       "  'rotate_left': '',\n",
       "  'rotate_right': '',\n",
       "  'date_en': '15',\n",
       "  'tithi': 'Trayodashi'},\n",
       " '2': {'event_one': 'राष्ट्रीय भूकम्प सुरक्षा दिवस',\n",
       "  'rotate_left': '',\n",
       "  'rotate_right': '',\n",
       "  'date_en': '16',\n",
       "  'tithi': 'Chaturdashi'},\n",
       " '3': {'event_one': 'श्री स्वस्थानी व्रत आरम्भ',\n",
       "  'rotate_left': '',\n",
       "  'rotate_right': '',\n",
       "  'date_en': '17',\n",
       "  'tithi': 'Purnima'},\n",
       " '4': {'event_one': '',\n",
       "  'rotate_left': '',\n",
       "  'rotate_right': '',\n",
       "  'date_en': '18',\n",
       "  'tithi': 'Pratipada'},\n",
       " '5': {'event_one': '',\n",
       "  'rotate_left': '',\n",
       "  'rotate_right': '',\n",
       "  'date_en': '19',\n",
       "  'tithi': 'Pratipada'},\n",
       " '6': {'event_one': '',\n",
       "  'rotate_left': '',\n",
       "  'rotate_right': '',\n",
       "  'date_en': '20',\n",
       "  'tithi': 'Dwitiya'},\n",
       " '7': {'event_one': '',\n",
       "  'rotate_left': '',\n",
       "  'rotate_right': '',\n",
       "  'date_en': '21',\n",
       "  'tithi': 'Tritiya'},\n",
       " '8': {'event_one': '',\n",
       "  'rotate_left': '',\n",
       "  'rotate_right': '',\n",
       "  'date_en': '22',\n",
       "  'tithi': 'Chaturthi'},\n",
       " '9': {'event_one': '',\n",
       "  'rotate_left': '',\n",
       "  'rotate_right': '',\n",
       "  'date_en': '23',\n",
       "  'tithi': 'Panchami'},\n",
       " '10': {'event_one': '',\n",
       "  'rotate_left': '',\n",
       "  'rotate_right': '',\n",
       "  'date_en': '24',\n",
       "  'tithi': 'Sasthi'},\n",
       " '11': {'event_one': '',\n",
       "  'rotate_left': '',\n",
       "  'rotate_right': '',\n",
       "  'date_en': '25',\n",
       "  'tithi': 'Saptami'},\n",
       " '12': {'event_one': 'विश्व भन्सार दिवस',\n",
       "  'rotate_left': '',\n",
       "  'rotate_right': '',\n",
       "  'date_en': '26',\n",
       "  'tithi': 'Nawami'},\n",
       " '13': {'event_one': '',\n",
       "  'rotate_left': '',\n",
       "  'rotate_right': '',\n",
       "  'date_en': '27',\n",
       "  'tithi': 'Dashami'},\n",
       " '14': {'event_one': '',\n",
       "  'rotate_left': '',\n",
       "  'rotate_right': '',\n",
       "  'date_en': '28',\n",
       "  'tithi': 'Ekadashi'},\n",
       " '15': {'event_one': 'नेपाल नर्सिंग दिवस',\n",
       "  'rotate_left': '',\n",
       "  'rotate_right': '',\n",
       "  'date_en': '29',\n",
       "  'tithi': 'Dwadashi'},\n",
       " '16': {'event_one': 'राष्ट्रिय सहिद दिवस',\n",
       "  'rotate_left': '',\n",
       "  'rotate_right': '',\n",
       "  'date_en': '30',\n",
       "  'tithi': 'Trayodashi'},\n",
       " '17': {'event_one': '',\n",
       "  'rotate_left': '',\n",
       "  'rotate_right': '',\n",
       "  'date_en': '31',\n",
       "  'tithi': 'Chaturdashi'},\n",
       " '18': {'event_one': '',\n",
       "  'rotate_left': '',\n",
       "  'rotate_right': '',\n",
       "  'date_en': '1',\n",
       "  'tithi': 'Aaunsi'},\n",
       " '19': {'event_one': 'सोनाम ल्होसार',\n",
       "  'rotate_left': 'विश्व सिमसार दिवस',\n",
       "  'rotate_right': '',\n",
       "  'date_en': '2',\n",
       "  'tithi': 'Pratipada'},\n",
       " '20': {'event_one': '',\n",
       "  'rotate_left': '',\n",
       "  'rotate_right': '',\n",
       "  'date_en': '3',\n",
       "  'tithi': 'Tritiya'},\n",
       " '21': {'event_one': 'विश्व क्यान्सर दिवस',\n",
       "  'rotate_left': '',\n",
       "  'rotate_right': '',\n",
       "  'date_en': '4',\n",
       "  'tithi': 'Chaturthi'},\n",
       " '22': {'event_one': '',\n",
       "  'rotate_left': '',\n",
       "  'rotate_right': '',\n",
       "  'date_en': '5',\n",
       "  'tithi': 'Panchami'},\n",
       " '23': {'event_one': 'श्रीपञ्चमी (शिक्षण संस्था मात्र)',\n",
       "  'rotate_left': '',\n",
       "  'rotate_right': '',\n",
       "  'date_en': '6',\n",
       "  'tithi': 'Sasthi'},\n",
       " '24': {'event_one': '',\n",
       "  'rotate_left': '',\n",
       "  'rotate_right': '',\n",
       "  'date_en': '7',\n",
       "  'tithi': 'Saptami'},\n",
       " '25': {'event_one': '',\n",
       "  'rotate_left': '',\n",
       "  'rotate_right': '',\n",
       "  'date_en': '8',\n",
       "  'tithi': 'Astami'},\n",
       " '26': {'event_one': '',\n",
       "  'rotate_left': '',\n",
       "  'rotate_right': '',\n",
       "  'date_en': '9',\n",
       "  'tithi': 'Astami'},\n",
       " '27': {'event_one': '',\n",
       "  'rotate_left': '',\n",
       "  'rotate_right': '',\n",
       "  'date_en': '10',\n",
       "  'tithi': 'Nawami'},\n",
       " '28': {'event_one': '',\n",
       "  'rotate_left': '',\n",
       "  'rotate_right': '',\n",
       "  'date_en': '11',\n",
       "  'tithi': 'Dashami'},\n",
       " '29': {'event_one': '',\n",
       "  'rotate_left': '',\n",
       "  'rotate_right': '',\n",
       "  'date_en': '12',\n",
       "  'tithi': 'Ekadashi'}}"
      ]
     },
     "execution_count": 58,
     "metadata": {},
     "output_type": "execute_result"
    }
   ],
   "source": [
    "magh"
   ]
  },
  {
   "cell_type": "code",
   "execution_count": 59,
   "metadata": {},
   "outputs": [],
   "source": [
    "import json"
   ]
  },
  {
   "cell_type": "code",
   "execution_count": 64,
   "metadata": {},
   "outputs": [
    {
     "name": "stdout",
     "output_type": "stream",
     "text": [
      "{\n",
      "  \"1\": {\n",
      "    \"event_one\": \"माघे संक्रान्ति (घ्यःचाकु सल्हु)\",\n",
      "    \"rotate_left\": \"\",\n",
      "    \"rotate_right\": \"\",\n",
      "    \"date_en\": \"15\",\n",
      "    \"tithi\": \"Trayodashi\"\n",
      "  },\n",
      "  \"2\": {\n",
      "    \"event_one\": \"राष्ट्रीय भूकम्प सुरक्षा दिवस\",\n",
      "    \"rotate_left\": \"\",\n",
      "    \"rotate_right\": \"\",\n",
      "    \"date_en\": \"16\",\n",
      "    \"tithi\": \"Chaturdashi\"\n",
      "  },\n",
      "  \"3\": {\n",
      "    \"event_one\": \"श्री स्वस्थानी व्रत आरम्भ\",\n",
      "    \"rotate_left\": \"\",\n",
      "    \"rotate_right\": \"\",\n",
      "    \"date_en\": \"17\",\n",
      "    \"tithi\": \"Purnima\"\n",
      "  },\n",
      "  \"4\": {\n",
      "    \"event_one\": \"\",\n",
      "    \"rotate_left\": \"\",\n",
      "    \"rotate_right\": \"\",\n",
      "    \"date_en\": \"18\",\n",
      "    \"tithi\": \"Pratipada\"\n",
      "  },\n",
      "  \"5\": {\n",
      "    \"event_one\": \"\",\n",
      "    \"rotate_left\": \"\",\n",
      "    \"rotate_right\": \"\",\n",
      "    \"date_en\": \"19\",\n",
      "    \"tithi\": \"Pratipada\"\n",
      "  },\n",
      "  \"6\": {\n",
      "    \"event_one\": \"\",\n",
      "    \"rotate_left\": \"\",\n",
      "    \"rotate_right\": \"\",\n",
      "    \"date_en\": \"20\",\n",
      "    \"tithi\": \"Dwitiya\"\n",
      "  },\n",
      "  \"7\": {\n",
      "    \"event_one\": \"\",\n",
      "    \"rotate_left\": \"\",\n",
      "    \"rotate_right\": \"\",\n",
      "    \"date_en\": \"21\",\n",
      "    \"tithi\": \"Tritiya\"\n",
      "  },\n",
      "  \"8\": {\n",
      "    \"event_one\": \"\",\n",
      "    \"rotate_left\": \"\",\n",
      "    \"rotate_right\": \"\",\n",
      "    \"date_en\": \"22\",\n",
      "    \"tithi\": \"Chaturthi\"\n",
      "  },\n",
      "  \"9\": {\n",
      "    \"event_one\": \"\",\n",
      "    \"rotate_left\": \"\",\n",
      "    \"rotate_right\": \"\",\n",
      "    \"date_en\": \"23\",\n",
      "    \"tithi\": \"Panchami\"\n",
      "  },\n",
      "  \"10\": {\n",
      "    \"event_one\": \"\",\n",
      "    \"rotate_left\": \"\",\n",
      "    \"rotate_right\": \"\",\n",
      "    \"date_en\": \"24\",\n",
      "    \"tithi\": \"Sasthi\"\n",
      "  },\n",
      "  \"11\": {\n",
      "    \"event_one\": \"\",\n",
      "    \"rotate_left\": \"\",\n",
      "    \"rotate_right\": \"\",\n",
      "    \"date_en\": \"25\",\n",
      "    \"tithi\": \"Saptami\"\n",
      "  },\n",
      "  \"12\": {\n",
      "    \"event_one\": \"विश्व भन्सार दिवस\",\n",
      "    \"rotate_left\": \"\",\n",
      "    \"rotate_right\": \"\",\n",
      "    \"date_en\": \"26\",\n",
      "    \"tithi\": \"Nawami\"\n",
      "  },\n",
      "  \"13\": {\n",
      "    \"event_one\": \"\",\n",
      "    \"rotate_left\": \"\",\n",
      "    \"rotate_right\": \"\",\n",
      "    \"date_en\": \"27\",\n",
      "    \"tithi\": \"Dashami\"\n",
      "  },\n",
      "  \"14\": {\n",
      "    \"event_one\": \"\",\n",
      "    \"rotate_left\": \"\",\n",
      "    \"rotate_right\": \"\",\n",
      "    \"date_en\": \"28\",\n",
      "    \"tithi\": \"Ekadashi\"\n",
      "  },\n",
      "  \"15\": {\n",
      "    \"event_one\": \"नेपाल नर्सिंग दिवस\",\n",
      "    \"rotate_left\": \"\",\n",
      "    \"rotate_right\": \"\",\n",
      "    \"date_en\": \"29\",\n",
      "    \"tithi\": \"Dwadashi\"\n",
      "  },\n",
      "  \"16\": {\n",
      "    \"event_one\": \"राष्ट्रिय सहिद दिवस\",\n",
      "    \"rotate_left\": \"\",\n",
      "    \"rotate_right\": \"\",\n",
      "    \"date_en\": \"30\",\n",
      "    \"tithi\": \"Trayodashi\"\n",
      "  },\n",
      "  \"17\": {\n",
      "    \"event_one\": \"\",\n",
      "    \"rotate_left\": \"\",\n",
      "    \"rotate_right\": \"\",\n",
      "    \"date_en\": \"31\",\n",
      "    \"tithi\": \"Chaturdashi\"\n",
      "  },\n",
      "  \"18\": {\n",
      "    \"event_one\": \"\",\n",
      "    \"rotate_left\": \"\",\n",
      "    \"rotate_right\": \"\",\n",
      "    \"date_en\": \"1\",\n",
      "    \"tithi\": \"Aaunsi\"\n",
      "  },\n",
      "  \"19\": {\n",
      "    \"event_one\": \"सोनाम ल्होसार\",\n",
      "    \"rotate_left\": \"विश्व सिमसार दिवस\",\n",
      "    \"rotate_right\": \"\",\n",
      "    \"date_en\": \"2\",\n",
      "    \"tithi\": \"Pratipada\"\n",
      "  },\n",
      "  \"20\": {\n",
      "    \"event_one\": \"\",\n",
      "    \"rotate_left\": \"\",\n",
      "    \"rotate_right\": \"\",\n",
      "    \"date_en\": \"3\",\n",
      "    \"tithi\": \"Tritiya\"\n",
      "  },\n",
      "  \"21\": {\n",
      "    \"event_one\": \"विश्व क्यान्सर दिवस\",\n",
      "    \"rotate_left\": \"\",\n",
      "    \"rotate_right\": \"\",\n",
      "    \"date_en\": \"4\",\n",
      "    \"tithi\": \"Chaturthi\"\n",
      "  },\n",
      "  \"22\": {\n",
      "    \"event_one\": \"\",\n",
      "    \"rotate_left\": \"\",\n",
      "    \"rotate_right\": \"\",\n",
      "    \"date_en\": \"5\",\n",
      "    \"tithi\": \"Panchami\"\n",
      "  },\n",
      "  \"23\": {\n",
      "    \"event_one\": \"श्रीपञ्चमी (शिक्षण संस्था मात्र)\",\n",
      "    \"rotate_left\": \"\",\n",
      "    \"rotate_right\": \"\",\n",
      "    \"date_en\": \"6\",\n",
      "    \"tithi\": \"Sasthi\"\n",
      "  },\n",
      "  \"24\": {\n",
      "    \"event_one\": \"\",\n",
      "    \"rotate_left\": \"\",\n",
      "    \"rotate_right\": \"\",\n",
      "    \"date_en\": \"7\",\n",
      "    \"tithi\": \"Saptami\"\n",
      "  },\n",
      "  \"25\": {\n",
      "    \"event_one\": \"\",\n",
      "    \"rotate_left\": \"\",\n",
      "    \"rotate_right\": \"\",\n",
      "    \"date_en\": \"8\",\n",
      "    \"tithi\": \"Astami\"\n",
      "  },\n",
      "  \"26\": {\n",
      "    \"event_one\": \"\",\n",
      "    \"rotate_left\": \"\",\n",
      "    \"rotate_right\": \"\",\n",
      "    \"date_en\": \"9\",\n",
      "    \"tithi\": \"Astami\"\n",
      "  },\n",
      "  \"27\": {\n",
      "    \"event_one\": \"\",\n",
      "    \"rotate_left\": \"\",\n",
      "    \"rotate_right\": \"\",\n",
      "    \"date_en\": \"10\",\n",
      "    \"tithi\": \"Nawami\"\n",
      "  },\n",
      "  \"28\": {\n",
      "    \"event_one\": \"\",\n",
      "    \"rotate_left\": \"\",\n",
      "    \"rotate_right\": \"\",\n",
      "    \"date_en\": \"11\",\n",
      "    \"tithi\": \"Dashami\"\n",
      "  },\n",
      "  \"29\": {\n",
      "    \"event_one\": \"\",\n",
      "    \"rotate_left\": \"\",\n",
      "    \"rotate_right\": \"\",\n",
      "    \"date_en\": \"12\",\n",
      "    \"tithi\": \"Ekadashi\"\n",
      "  }\n",
      "}\n"
     ]
    }
   ],
   "source": [
    "print(json.dumps(magh, indent=2, ensure_ascii=False))"
   ]
  },
  {
   "cell_type": "code",
   "execution_count": 66,
   "metadata": {},
   "outputs": [],
   "source": [
    "with open('magh.json', 'w') as outfile:\n",
    "  json.dump(magh, outfile, ensure_ascii=False)"
   ]
  },
  {
   "cell_type": "code",
   "execution_count": null,
   "metadata": {},
   "outputs": [],
   "source": [
    "year = 2078\n",
    "months = ['Baishakh', 'Jestha', 'Ashadh', 'Shrawan', 'Bhadra', 'Ashwin', 'Kartik', 'Mangsir', 'Poush', 'Magh', 'Falgun', 'Chaitra']\n"
   ]
  }
 ],
 "metadata": {
  "interpreter": {
   "hash": "31f2aee4e71d21fbe5cf8b01ff0e069b9275f58929596ceb00d14d90e3e16cd6"
  },
  "kernelspec": {
   "display_name": "Python 3.8.10 64-bit",
   "language": "python",
   "name": "python3"
  },
  "language_info": {
   "codemirror_mode": {
    "name": "ipython",
    "version": 3
   },
   "file_extension": ".py",
   "mimetype": "text/x-python",
   "name": "python",
   "nbconvert_exporter": "python",
   "pygments_lexer": "ipython3",
   "version": "3.8.10"
  },
  "orig_nbformat": 4
 },
 "nbformat": 4,
 "nbformat_minor": 2
}

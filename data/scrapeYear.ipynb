{
 "cells": [
  {
   "cell_type": "code",
   "execution_count": 26,
   "metadata": {},
   "outputs": [],
   "source": [
    "import requests, bs4, json, os"
   ]
  },
  {
   "cell_type": "code",
   "execution_count": 27,
   "metadata": {},
   "outputs": [],
   "source": [
    "start_year = 1970\n",
    "end_year = 2079\n",
    "\n",
    "year = start_year\n",
    "while year <= end_year:\n",
    "  months = ['Baishakh', 'Jestha', 'Ashadh', 'Shrawan', 'Bhadra',\n",
    "            'Ashwin', 'Kartik', 'Mangsir', 'Poush', 'Magh', 'Falgun', 'Chaitra']\n",
    "\n",
    "  year_dict = {}\n",
    "  for month in months:\n",
    "    res = requests.get(\n",
    "        f'https://www.ashesh.com.np/nepali-calendar/?year={year}&month={month}'\n",
    "    )\n",
    "    res.raise_for_status()\n",
    "\n",
    "    calendar_soup = bs4.BeautifulSoup(res.text, 'html.parser')\n",
    "    \n",
    "    event_one = calendar_soup.select('.event_one')\n",
    "    rotate_left = calendar_soup.select('.rotate_left')\n",
    "    rotate_right = calendar_soup.select('.rotate_right')\n",
    "    date_np = calendar_soup.select('.date_np')\n",
    "    date_en = calendar_soup.select('.date_en')\n",
    "    tithi = calendar_soup.select('.tithi')\n",
    "\n",
    "    month_dict = {}\n",
    "    for i in range(len(date_np)):\n",
    "      day = date_np[i].get_text(strip=True)\n",
    "      day_dict = {'event_main': event_one[i].get_text(strip=True),\n",
    "            'extra_1': rotate_left[i].get_text(strip=True),\n",
    "            'extra_2': rotate_right[i].get_text(strip=True),\n",
    "            'date_np': day,\n",
    "            'date_en': date_en[i].get_text(strip=True),\n",
    "            'tithi': tithi[i].get_text(strip=True),\n",
    "            }\n",
    "      month_dict[day] = day_dict\n",
    "    \n",
    "    year_dict[month] = month_dict\n",
    "\n",
    "  current_dir = os.getcwd()\n",
    "  save_data = os.path.join(current_dir, 'yearwise', f'{year}.json')\n",
    "  with open(save_data, 'w') as outfile:\n",
    "    json.dump(year_dict, outfile, ensure_ascii=False)\n",
    "\n",
    "  year += 1\n",
    "\n"
   ]
  },
  {
   "cell_type": "code",
   "execution_count": null,
   "metadata": {},
   "outputs": [],
   "source": []
  }
 ],
 "metadata": {
  "interpreter": {
   "hash": "31f2aee4e71d21fbe5cf8b01ff0e069b9275f58929596ceb00d14d90e3e16cd6"
  },
  "kernelspec": {
   "display_name": "Python 3.8.10 64-bit",
   "language": "python",
   "name": "python3"
  },
  "language_info": {
   "codemirror_mode": {
    "name": "ipython",
    "version": 3
   },
   "file_extension": ".py",
   "mimetype": "text/x-python",
   "name": "python",
   "nbconvert_exporter": "python",
   "pygments_lexer": "ipython3",
   "version": "3.8.10"
  },
  "orig_nbformat": 4
 },
 "nbformat": 4,
 "nbformat_minor": 2
}

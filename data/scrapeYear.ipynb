{
 "cells": [
  {
   "cell_type": "code",
   "execution_count": 7,
   "metadata": {},
   "outputs": [],
   "source": [
    "import requests, bs4, json, os"
   ]
  },
  {
   "cell_type": "code",
   "execution_count": 124,
   "metadata": {},
   "outputs": [],
   "source": [
    "def get_data(start_year, end_year, day_flag):\n",
    "  current_year = start_year\n",
    "  months = ['Baishakh', 'Jestha', 'Ashadh', 'Shrawan', 'Bhadra',\n",
    "              'Ashwin', 'Kartik', 'Mangsir', 'Poush', 'Magh', 'Falgun', 'Chaitra']\n",
    "  week_days = ['Sun', 'Mon', 'Tue', 'Wed', 'Thu', 'Fri', 'Sat']\n",
    "\n",
    "  while current_year <= end_year:\n",
    "    year_dict = {}\n",
    "    for month in months:\n",
    "      # print(month)\n",
    "      res = requests.get(\n",
    "          f'https://www.ashesh.com.np/nepali-calendar/?year={current_year}&month={month}'\n",
    "      )\n",
    "      res.raise_for_status()\n",
    "\n",
    "      calendar_soup = bs4.BeautifulSoup(res.text, 'html.parser')\n",
    "      \n",
    "      event_one = calendar_soup.select('.event_one')\n",
    "      rotate_left = calendar_soup.select('.rotate_left')\n",
    "      rotate_right = calendar_soup.select('.rotate_right')\n",
    "      date_np = calendar_soup.select('.date_np')\n",
    "      date_en = calendar_soup.select('.date_en')\n",
    "      tithi = calendar_soup.select('.tithi')\n",
    "\n",
    "      month_dict = {}\n",
    "      for i in range(len(date_np)):\n",
    "        day = date_np[i].get_text(strip=True)\n",
    "        day_dict = {'event_main': event_one[i].get_text(strip=True),\n",
    "              'extra_1': rotate_left[i].get_text(strip=True),\n",
    "              'extra_2': rotate_right[i].get_text(strip=True),\n",
    "              'date_np': day,\n",
    "              'date_en': date_en[i].get_text(strip=True),\n",
    "              'tithi': tithi[i].get_text(strip=True),\n",
    "              }\n",
    "        month_dict[day] = day_dict\n",
    "      \n",
    "      for i in range(len(date_np)):\n",
    "        month_dict[str(i+1)]['week_day'] = week_days[day_flag]\n",
    "        day_flag = (day_flag + 1) % 7\n",
    "\n",
    "      year_dict[month] = month_dict\n",
    "\n",
    "    current_dir = os.getcwd()\n",
    "    save_data = os.path.join(current_dir, 'yearwise', f'{current_year}.json')\n",
    "    with open(save_data, 'w') as outfile:\n",
    "      json.dump(year_dict, outfile, ensure_ascii=False)\n",
    "\n",
    "    current_year += 1\n",
    "  print(day_flag)\n"
   ]
  },
  {
   "cell_type": "code",
   "execution_count": 132,
   "metadata": {},
   "outputs": [
    {
     "name": "stdout",
     "output_type": "stream",
     "text": [
      "5\n"
     ]
    }
   ],
   "source": [
    "year = 2079\n",
    "get_data(year, year, 4)"
   ]
  },
  {
   "cell_type": "code",
   "execution_count": null,
   "metadata": {},
   "outputs": [],
   "source": []
  }
 ],
 "metadata": {
  "interpreter": {
   "hash": "31f2aee4e71d21fbe5cf8b01ff0e069b9275f58929596ceb00d14d90e3e16cd6"
  },
  "kernelspec": {
   "display_name": "Python 3.8.10 64-bit",
   "language": "python",
   "name": "python3"
  },
  "language_info": {
   "codemirror_mode": {
    "name": "ipython",
    "version": 3
   },
   "file_extension": ".py",
   "mimetype": "text/x-python",
   "name": "python",
   "nbconvert_exporter": "python",
   "pygments_lexer": "ipython3",
   "version": "3.8.10"
  },
  "orig_nbformat": 4
 },
 "nbformat": 4,
 "nbformat_minor": 2
}
